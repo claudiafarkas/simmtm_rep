{
 "cells": [
  {
   "cell_type": "markdown",
   "metadata": {},
   "source": [
    "# Load, inspect, and preprocess data (both classification & forecasting)"
   ]
  },
  {
   "cell_type": "markdown",
   "metadata": {},
   "source": [
    "# Classification"
   ]
  },
  {
   "cell_type": "markdown",
   "metadata": {},
   "source": [
    "## Initial Setup"
   ]
  },
  {
   "cell_type": "code",
   "execution_count": 22,
   "metadata": {},
   "outputs": [],
   "source": [
    "import os\n",
    "import torch\n",
    "from torch.utils.data import TensorDataset, DataLoader"
   ]
  },
  {
   "cell_type": "markdown",
   "metadata": {},
   "source": [
    "## Data Loading"
   ]
  },
  {
   "cell_type": "markdown",
   "metadata": {},
   "source": [
    "Loading .pt files from data/classification/epilepsy and data/classification/sleepEEG"
   ]
  },
  {
   "cell_type": "code",
   "execution_count": 20,
   "metadata": {},
   "outputs": [
    {
     "name": "stdout",
     "output_type": "stream",
     "text": [
      "\n",
      "Loading the Epilepsy data set from:  ../data/classification/epilepsy/\n",
      "File Path Found:  ../data/classification/epilepsy/train.pt\n",
      "File Path Found:  ../data/classification/epilepsy/val.pt\n",
      "File Path Found:  ../data/classification/epilepsy/test.pt\n",
      "\n",
      "Loading the SleepEEG data set from:  ../data/classification/sleepEEG/\n",
      "File Path Found:  ../data/classification/sleepEEG/train.pt\n",
      "File Path Found:  ../data/classification/sleepEEG/val.pt\n",
      "File Path Found:  ../data/classification/sleepEEG/test.pt\n",
      "\n",
      "\n"
     ]
    },
    {
     "name": "stderr",
     "output_type": "stream",
     "text": [
      "/var/folders/ly/sbmdyslx2j1_rsqxv7jblw8m0000gn/T/ipykernel_4828/3548383091.py:16: FutureWarning: You are using `torch.load` with `weights_only=False` (the current default value), which uses the default pickle module implicitly. It is possible to construct malicious pickle data which will execute arbitrary code during unpickling (See https://github.com/pytorch/pytorch/blob/main/SECURITY.md#untrusted-models for more details). In a future release, the default value for `weights_only` will be flipped to `True`. This limits the functions that could be executed during unpickling. Arbitrary objects will no longer be allowed to be loaded via this mode unless they are explicitly allowlisted by the user via `torch.serialization.add_safe_globals`. We recommend you start setting `weights_only=True` for any use case where you don't have full control of the loaded file. Please open an issue on GitHub for any issues related to this experimental feature.\n",
      "  data_dict[split_file] = torch.load(file_path)\n"
     ]
    }
   ],
   "source": [
    "def load_pt(dataset_dir):\n",
    "    '''\n",
    "    Loads train, validation and test sets form the data/classification/ files\n",
    "    Args: \n",
    "        dataset_dir (str): Path to dataset directory\n",
    "    Returns: \n",
    "        dict: dictionary with keys 'train', 'val' and 'test', each mapping to 'data' and 'label' dictionary\n",
    "    '''\n",
    "    # print(\"Current Working Directory:\", os.getcwd())\n",
    "    data_dict = {}\n",
    "    for split_file in ['train', 'val', 'test']:\n",
    "        file_path = os.path.join(dataset_dir, f\"{split_file}.pt\")\n",
    "        print(\"File Path Found: \", file_path)\n",
    "        if not os.path.exists(file_path):\n",
    "            raise FileNotFoundError(f\"{file_path} not found!\")\n",
    "        data_dict[split_file] = torch.load(file_path)\n",
    "    return data_dict\n",
    "\n",
    "epilepsy_dir = \"../data/classification/epilepsy/\"\n",
    "sleepeeg_dir = \"../data/classification/sleepEEG/\"\n",
    "\n",
    "def load_classification_dataset(epilepsy_dir, sleepeeg_dir):\n",
    "    print(\"\\nLoading the Epilepsy data set from: \", epilepsy_dir)\n",
    "    epilepsy_dir = load_pt(epilepsy_dir)\n",
    "    print(\"\\nLoading the SleepEEG data set from: \", sleepeeg_dir)\n",
    "    sleepeeg_dir = load_pt(sleepeeg_dir)\n",
    "    print(\"\\n\")\n",
    "\n",
    "load_classification_dataset(epilepsy_dir, sleepeeg_dir)"
   ]
  },
  {
   "cell_type": "markdown",
   "metadata": {},
   "source": [
    "### Processing Steps"
   ]
  },
  {
   "cell_type": "markdown",
   "metadata": {},
   "source": [
    "1. Normalization"
   ]
  },
  {
   "cell_type": "code",
   "execution_count": 40,
   "metadata": {},
   "outputs": [
    {
     "name": "stdout",
     "output_type": "stream",
     "text": [
      "Normalizing the Data...\n",
      "Data Normalized!:\n",
      " tensor([[[-0.1485, -0.9279,  0.3021],\n",
      "         [ 1.5872, -0.5958, -0.5852],\n",
      "         [-0.5903,  0.8131,  0.4004],\n",
      "         ...,\n",
      "         [-0.4318,  0.9880,  1.0550],\n",
      "         [ 0.8186,  0.0105,  0.2576],\n",
      "         [-0.9088,  0.2840, -1.3327]],\n",
      "\n",
      "        [[-1.5043, -1.3305, -0.1704],\n",
      "         [-0.4109,  0.3547, -0.9528],\n",
      "         [-0.4673,  2.0046, -0.7337],\n",
      "         ...,\n",
      "         [ 1.4402, -0.3421, -0.8243],\n",
      "         [ 0.1561,  0.9028,  1.1769],\n",
      "         [ 0.8439, -0.7454,  0.9178]],\n",
      "\n",
      "        [[ 0.6569,  1.8598, -0.8483],\n",
      "         [ 0.6120, -0.1908,  0.8278],\n",
      "         [-0.2943,  1.0893,  0.9352],\n",
      "         ...,\n",
      "         [-0.3682, -1.8264, -0.6037],\n",
      "         [-1.5373, -0.1024, -0.9526],\n",
      "         [-0.3752, -0.3387, -1.0702]],\n",
      "\n",
      "        ...,\n",
      "\n",
      "        [[ 0.5969,  0.3656,  0.7539],\n",
      "         [ 1.2546,  1.4022, -0.9900],\n",
      "         [ 1.3200, -0.0459,  1.2897],\n",
      "         ...,\n",
      "         [-0.9968,  0.3001, -1.9298],\n",
      "         [ 0.6790,  1.3201,  0.2767],\n",
      "         [-0.1445, -0.4296, -0.4472]],\n",
      "\n",
      "        [[-0.9487,  0.3279,  0.5446],\n",
      "         [-0.3037,  0.9237, -1.2054],\n",
      "         [ 0.5155,  0.8261, -1.4639],\n",
      "         ...,\n",
      "         [ 0.7242, -0.7078, -0.9869],\n",
      "         [ 0.8213, -0.3835,  0.1833],\n",
      "         [ 0.7542, -0.5335,  0.9793]],\n",
      "\n",
      "        [[ 1.9643, -1.4701,  0.4945],\n",
      "         [ 0.2783, -0.3997,  0.1506],\n",
      "         [-0.0905,  1.3240, -1.1739],\n",
      "         ...,\n",
      "         [ 0.2127, -0.0353, -0.0700],\n",
      "         [ 0.1880, -0.7852, -0.3671],\n",
      "         [-0.7549,  1.1479,  2.1024]]]), \n",
      "Sample:\n",
      "tensor([[-0.1485, -0.9279,  0.3021],\n",
      "        [ 1.5872, -0.5958, -0.5852],\n",
      "        [-0.5903,  0.8131,  0.4004],\n",
      "        [-0.0376, -2.2588,  1.5257],\n",
      "        [ 0.3763,  0.6119, -1.7640],\n",
      "        [-1.7580,  0.4607,  0.0473],\n",
      "        [ 1.0928,  0.6144,  0.0939],\n",
      "        [-0.4318,  0.9880,  1.0550],\n",
      "        [ 0.8186,  0.0105,  0.2576],\n",
      "        [-0.9088,  0.2840, -1.3327]])\n"
     ]
    }
   ],
   "source": [
    "def normalize_data(X):\n",
    "    '''\n",
    "    Normalizes each sample in a batch of time serise data\n",
    "    Args:\n",
    "        X (torch.Tensor): Input tensor of shape (num_samples, sequence_length, channels)\n",
    "    Returns:\n",
    "        torch.Tensor: Normalized data tensor of same shape\n",
    "    \n",
    "    '''\n",
    "    print(\"Normalizing the Data...\")\n",
    "    mean = X.mean(dim = 1, keepdim = True)\n",
    "    std = X.std(dim = 1, keepdim = True)\n",
    "\n",
    "    X_normalized = (X - mean) / (std + 1e-8)\n",
    "\n",
    "    print(f\"Data Normalized!:\\n {X_normalized}, \\nSample:\" )\n",
    "    print(X_normalized[0])\n",
    "\n",
    "    return X_normalized\n",
    "\n",
    "X = torch.randn(100, 10, 3)                               # num_samples=5, sequence_length=10, channels=3)\n",
    "normalized_X = normalize_data(X)"
   ]
  },
  {
   "cell_type": "code",
   "execution_count": 36,
   "metadata": {},
   "outputs": [
    {
     "name": "stdout",
     "output_type": "stream",
     "text": [
      "Creating DataLoader...\n",
      "Data Loader Created with 7 batches.\n"
     ]
    }
   ],
   "source": [
    "def dataloader(X, y, batch_size = 32, shuffle = True):\n",
    "    '''\n",
    "    Creates a DataLoader from input data and labels to help train on smaller batches\n",
    "    Args: \n",
    "        X(torch.Tensor): Data tensor of shape (num_samples, sequence_length, channels)\n",
    "        y (torch.Tensor): Label rensor of shape (num_samples)\n",
    "        batch_size (int): Batch size\n",
    "        shuffle (bool): To shuffle the data\n",
    "    \n",
    "    '''\n",
    "    print(\"Creating DataLoader...\")\n",
    "    assert X.size(0) == y.size(0), f\"Size mismatch! X has {X.size(0)} samples, y has {y.size(0)} labels\"\n",
    "    dataset = TensorDataset(X, y)\n",
    "    loader = DataLoader(dataset, batch_size = batch_size, shuffle = shuffle)\n",
    "    print(f\"Data Loader Created with {len(loader)} batches.\")\n",
    "    return loader\n",
    "y = torch.randint(0, 3, (100,))\n",
    "loader = dataloader(X, y, batch_size = 16)"
   ]
  },
  {
   "cell_type": "markdown",
   "metadata": {},
   "source": [
    "# Forecasting"
   ]
  },
  {
   "cell_type": "markdown",
   "metadata": {},
   "source": []
  }
 ],
 "metadata": {
  "kernelspec": {
   "display_name": "base",
   "language": "python",
   "name": "python3"
  },
  "language_info": {
   "codemirror_mode": {
    "name": "ipython",
    "version": 3
   },
   "file_extension": ".py",
   "mimetype": "text/x-python",
   "name": "python",
   "nbconvert_exporter": "python",
   "pygments_lexer": "ipython3",
   "version": "3.12.7"
  }
 },
 "nbformat": 4,
 "nbformat_minor": 2
}
